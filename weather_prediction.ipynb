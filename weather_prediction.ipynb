{
 "cells": [
  {
   "cell_type": "code",
   "execution_count": 1,
   "metadata": {},
   "outputs": [
    {
     "name": "stdout",
     "output_type": "stream",
     "text": [
      "om namo narayana\n"
     ]
    }
   ],
   "source": [
    "print(\"om namo narayana\")"
   ]
  },
  {
   "cell_type": "code",
   "execution_count": 38,
   "metadata": {},
   "outputs": [],
   "source": [
    "import pandas as pd\n",
    "import numpy as np\n",
    "from sklearn import linear_model\n",
    "from sklearn.model_selection import train_test_split\n",
    "import matplotlib.pyplot as plt\n",
    "import random\n",
    "import seaborn as sns\n",
    "from sklearn.linear_model import LogisticRegression\n",
    "from sklearn import metrics"
   ]
  },
  {
   "cell_type": "code",
   "execution_count": 3,
   "metadata": {},
   "outputs": [],
   "source": [
    "df = pd.read_csv(r'D:\\spider\\machine_learning\\testset.csv')"
   ]
  },
  {
   "cell_type": "code",
   "execution_count": 4,
   "metadata": {},
   "outputs": [
    {
     "data": {
      "text/html": [
       "<div>\n",
       "<style scoped>\n",
       "    .dataframe tbody tr th:only-of-type {\n",
       "        vertical-align: middle;\n",
       "    }\n",
       "\n",
       "    .dataframe tbody tr th {\n",
       "        vertical-align: top;\n",
       "    }\n",
       "\n",
       "    .dataframe thead th {\n",
       "        text-align: right;\n",
       "    }\n",
       "</style>\n",
       "<table border=\"1\" class=\"dataframe\">\n",
       "  <thead>\n",
       "    <tr style=\"text-align: right;\">\n",
       "      <th></th>\n",
       "      <th>datetime_utc</th>\n",
       "      <th>_conds</th>\n",
       "      <th>_dewptm</th>\n",
       "      <th>_fog</th>\n",
       "      <th>_hail</th>\n",
       "      <th>_heatindexm</th>\n",
       "      <th>_hum</th>\n",
       "      <th>_precipm</th>\n",
       "      <th>_pressurem</th>\n",
       "      <th>_rain</th>\n",
       "      <th>_snow</th>\n",
       "      <th>_tempm</th>\n",
       "      <th>_thunder</th>\n",
       "      <th>_tornado</th>\n",
       "      <th>_vism</th>\n",
       "      <th>_wdird</th>\n",
       "      <th>_wdire</th>\n",
       "      <th>_wgustm</th>\n",
       "      <th>_windchillm</th>\n",
       "      <th>_wspdm</th>\n",
       "    </tr>\n",
       "  </thead>\n",
       "  <tbody>\n",
       "    <tr>\n",
       "      <th>0</th>\n",
       "      <td>19961101-11:00</td>\n",
       "      <td>Smoke</td>\n",
       "      <td>9.0</td>\n",
       "      <td>0</td>\n",
       "      <td>0</td>\n",
       "      <td>NaN</td>\n",
       "      <td>27.0</td>\n",
       "      <td>NaN</td>\n",
       "      <td>1010.0</td>\n",
       "      <td>0</td>\n",
       "      <td>0</td>\n",
       "      <td>30.0</td>\n",
       "      <td>0</td>\n",
       "      <td>0</td>\n",
       "      <td>5.0</td>\n",
       "      <td>280.0</td>\n",
       "      <td>West</td>\n",
       "      <td>NaN</td>\n",
       "      <td>NaN</td>\n",
       "      <td>7.4</td>\n",
       "    </tr>\n",
       "    <tr>\n",
       "      <th>1</th>\n",
       "      <td>19961101-12:00</td>\n",
       "      <td>Smoke</td>\n",
       "      <td>10.0</td>\n",
       "      <td>0</td>\n",
       "      <td>0</td>\n",
       "      <td>NaN</td>\n",
       "      <td>32.0</td>\n",
       "      <td>NaN</td>\n",
       "      <td>-9999.0</td>\n",
       "      <td>0</td>\n",
       "      <td>0</td>\n",
       "      <td>28.0</td>\n",
       "      <td>0</td>\n",
       "      <td>0</td>\n",
       "      <td>NaN</td>\n",
       "      <td>0.0</td>\n",
       "      <td>North</td>\n",
       "      <td>NaN</td>\n",
       "      <td>NaN</td>\n",
       "      <td>NaN</td>\n",
       "    </tr>\n",
       "    <tr>\n",
       "      <th>2</th>\n",
       "      <td>19961101-13:00</td>\n",
       "      <td>Smoke</td>\n",
       "      <td>11.0</td>\n",
       "      <td>0</td>\n",
       "      <td>0</td>\n",
       "      <td>NaN</td>\n",
       "      <td>44.0</td>\n",
       "      <td>NaN</td>\n",
       "      <td>-9999.0</td>\n",
       "      <td>0</td>\n",
       "      <td>0</td>\n",
       "      <td>24.0</td>\n",
       "      <td>0</td>\n",
       "      <td>0</td>\n",
       "      <td>NaN</td>\n",
       "      <td>0.0</td>\n",
       "      <td>North</td>\n",
       "      <td>NaN</td>\n",
       "      <td>NaN</td>\n",
       "      <td>NaN</td>\n",
       "    </tr>\n",
       "    <tr>\n",
       "      <th>3</th>\n",
       "      <td>19961101-14:00</td>\n",
       "      <td>Smoke</td>\n",
       "      <td>10.0</td>\n",
       "      <td>0</td>\n",
       "      <td>0</td>\n",
       "      <td>NaN</td>\n",
       "      <td>41.0</td>\n",
       "      <td>NaN</td>\n",
       "      <td>1010.0</td>\n",
       "      <td>0</td>\n",
       "      <td>0</td>\n",
       "      <td>24.0</td>\n",
       "      <td>0</td>\n",
       "      <td>0</td>\n",
       "      <td>2.0</td>\n",
       "      <td>0.0</td>\n",
       "      <td>North</td>\n",
       "      <td>NaN</td>\n",
       "      <td>NaN</td>\n",
       "      <td>NaN</td>\n",
       "    </tr>\n",
       "    <tr>\n",
       "      <th>4</th>\n",
       "      <td>19961101-16:00</td>\n",
       "      <td>Smoke</td>\n",
       "      <td>11.0</td>\n",
       "      <td>0</td>\n",
       "      <td>0</td>\n",
       "      <td>NaN</td>\n",
       "      <td>47.0</td>\n",
       "      <td>NaN</td>\n",
       "      <td>1011.0</td>\n",
       "      <td>0</td>\n",
       "      <td>0</td>\n",
       "      <td>23.0</td>\n",
       "      <td>0</td>\n",
       "      <td>0</td>\n",
       "      <td>1.2</td>\n",
       "      <td>0.0</td>\n",
       "      <td>North</td>\n",
       "      <td>NaN</td>\n",
       "      <td>NaN</td>\n",
       "      <td>0.0</td>\n",
       "    </tr>\n",
       "  </tbody>\n",
       "</table>\n",
       "</div>"
      ],
      "text/plain": [
       "     datetime_utc  _conds   _dewptm   _fog   _hail   _heatindexm   _hum  \\\n",
       "0  19961101-11:00   Smoke       9.0      0       0           NaN   27.0   \n",
       "1  19961101-12:00   Smoke      10.0      0       0           NaN   32.0   \n",
       "2  19961101-13:00   Smoke      11.0      0       0           NaN   44.0   \n",
       "3  19961101-14:00   Smoke      10.0      0       0           NaN   41.0   \n",
       "4  19961101-16:00   Smoke      11.0      0       0           NaN   47.0   \n",
       "\n",
       "    _precipm   _pressurem   _rain   _snow   _tempm   _thunder   _tornado  \\\n",
       "0        NaN       1010.0       0       0     30.0          0          0   \n",
       "1        NaN      -9999.0       0       0     28.0          0          0   \n",
       "2        NaN      -9999.0       0       0     24.0          0          0   \n",
       "3        NaN       1010.0       0       0     24.0          0          0   \n",
       "4        NaN       1011.0       0       0     23.0          0          0   \n",
       "\n",
       "    _vism   _wdird  _wdire   _wgustm   _windchillm   _wspdm  \n",
       "0     5.0    280.0    West       NaN           NaN      7.4  \n",
       "1     NaN      0.0   North       NaN           NaN      NaN  \n",
       "2     NaN      0.0   North       NaN           NaN      NaN  \n",
       "3     2.0      0.0   North       NaN           NaN      NaN  \n",
       "4     1.2      0.0   North       NaN           NaN      0.0  "
      ]
     },
     "execution_count": 4,
     "metadata": {},
     "output_type": "execute_result"
    }
   ],
   "source": [
    "df.head()"
   ]
  },
  {
   "cell_type": "code",
   "execution_count": 5,
   "metadata": {},
   "outputs": [],
   "source": [
    "from sklearn.datasets import load_digits"
   ]
  },
  {
   "cell_type": "code",
   "execution_count": 6,
   "metadata": {},
   "outputs": [],
   "source": [
    "digits = load_digits()"
   ]
  },
  {
   "cell_type": "code",
   "execution_count": 7,
   "metadata": {},
   "outputs": [
    {
     "name": "stdout",
     "output_type": "stream",
     "text": [
      "(1797, 64)\n",
      "(1797,)\n"
     ]
    }
   ],
   "source": [
    "print(digits.data.shape)\n",
    "print(digits.target.shape)"
   ]
  },
  {
   "cell_type": "code",
   "execution_count": 8,
   "metadata": {},
   "outputs": [
    {
     "name": "stdout",
     "output_type": "stream",
     "text": [
      "     datetime_utc  _conds   _dewptm   _fog   _hail   _heatindexm   _hum  \\\n",
      "0  19961101-11:00   Smoke       9.0      0       0           NaN   27.0   \n",
      "1  19961101-12:00   Smoke      10.0      0       0           NaN   32.0   \n",
      "2  19961101-13:00   Smoke      11.0      0       0           NaN   44.0   \n",
      "3  19961101-14:00   Smoke      10.0      0       0           NaN   41.0   \n",
      "4  19961101-16:00   Smoke      11.0      0       0           NaN   47.0   \n",
      "\n",
      "    _precipm   _pressurem   _rain   _snow   _tempm   _thunder   _tornado  \\\n",
      "0        NaN       1010.0       0       0     30.0          0          0   \n",
      "1        NaN      -9999.0       0       0     28.0          0          0   \n",
      "2        NaN      -9999.0       0       0     24.0          0          0   \n",
      "3        NaN       1010.0       0       0     24.0          0          0   \n",
      "4        NaN       1011.0       0       0     23.0          0          0   \n",
      "\n",
      "    _vism   _wdird  _wdire   _wgustm   _windchillm   _wspdm  \n",
      "0     5.0    280.0    West       NaN           NaN      7.4  \n",
      "1     NaN      0.0   North       NaN           NaN      NaN  \n",
      "2     NaN      0.0   North       NaN           NaN      NaN  \n",
      "3     2.0      0.0   North       NaN           NaN      NaN  \n",
      "4     1.2      0.0   North       NaN           NaN      0.0  \n",
      "0 : datetime_utc\n",
      "1 :  _conds\n",
      "2 :  _dewptm\n",
      "3 :  _fog\n",
      "4 :  _hail\n",
      "5 :  _heatindexm\n",
      "6 :  _hum\n",
      "7 :  _precipm\n",
      "8 :  _pressurem\n",
      "9 :  _rain\n",
      "10 :  _snow\n",
      "11 :  _tempm\n",
      "12 :  _thunder\n",
      "13 :  _tornado\n",
      "14 :  _vism\n",
      "15 :  _wdird\n",
      "16 :  _wdire\n",
      "17 :  _wgustm\n",
      "18 :  _windchillm\n",
      "19 :  _wspdm\n"
     ]
    }
   ],
   "source": [
    "print(df.head())\n",
    "num_columns = []\n",
    "data = df\n",
    "data = data.fillna(data[:500].mean(axis = 0, skipna = True))\n",
    "for i in range(len(data.columns)):\n",
    "    print(i ,\":\", data.columns[i])"
   ]
  },
  {
   "cell_type": "code",
   "execution_count": 245,
   "metadata": {},
   "outputs": [
    {
     "name": "stdout",
     "output_type": "stream",
     "text": [
      "(100990,)\n"
     ]
    }
   ],
   "source": [
    "#SELECT THE INPUT ACCORDING TO YOUR REQUIREMENT\n",
    "\n",
    "#input_data = zip(data[data.columns[2]].tolist(), data[data.columns[5]].tolist(), data[data.columns[6]].tolist(), data[data.columns[8]].tolist(), data[data.columns[11]].tolist())\n",
    "#input_data = zip(data[data.columns[2]].tolist(), data[data.columns[6]].tolist(), data[data.columns[11]].tolist())\n",
    "#input_data = zip(data[data.columns[6]].tolist(), data[data.columns[11]].tolist())\n",
    "input_data = np.array([data[' _tempm'].tolist()]).T\n",
    "#input_data = list(input_data)\n",
    "output_data = np.array(data[' _rain'].tolist())\n",
    "print(output_data.shape)\n",
    "#input_data = np.array(list(map(list, input_data)))\n",
    "#output_data = np.array(list(map(list, input_data)))"
   ]
  },
  {
   "cell_type": "code",
   "execution_count": 246,
   "metadata": {},
   "outputs": [],
   "source": [
    "x_train, x_test, y_train, y_test = train_test_split(input_data, output_data, test_size = 1 / 10, random_state = None)\n",
    "#print(len(x_train), len(x_train[0]), x_train.shape)"
   ]
  },
  {
   "cell_type": "code",
   "execution_count": 247,
   "metadata": {},
   "outputs": [
    {
     "name": "stderr",
     "output_type": "stream",
     "text": [
      "c:\\users\\arvin\\appdata\\local\\programs\\python\\python37\\lib\\site-packages\\sklearn\\linear_model\\logistic.py:432: FutureWarning: Default solver will be changed to 'lbfgs' in 0.22. Specify a solver to silence this warning.\n",
      "  FutureWarning)\n"
     ]
    },
    {
     "data": {
      "text/plain": [
       "LogisticRegression(C=1.0, class_weight=None, dual=False, fit_intercept=True,\n",
       "                   intercept_scaling=1, l1_ratio=None, max_iter=100,\n",
       "                   multi_class='warn', n_jobs=None, penalty='l2',\n",
       "                   random_state=None, solver='warn', tol=0.0001, verbose=0,\n",
       "                   warm_start=False)"
      ]
     },
     "execution_count": 247,
     "metadata": {},
     "output_type": "execute_result"
    }
   ],
   "source": [
    "logic = LogisticRegression()\n",
    "logic.fit(x_train, y_train)"
   ]
  },
  {
   "cell_type": "code",
   "execution_count": 248,
   "metadata": {},
   "outputs": [],
   "source": [
    "score = logic.score(x_test, y_test)"
   ]
  },
  {
   "cell_type": "code",
   "execution_count": 249,
   "metadata": {},
   "outputs": [],
   "source": [
    "predictions = logic.predict(x_test)"
   ]
  },
  {
   "cell_type": "code",
   "execution_count": 250,
   "metadata": {},
   "outputs": [
    {
     "name": "stdout",
     "output_type": "stream",
     "text": [
      "[[9837  262]\n",
      " [   0    0]]\n"
     ]
    }
   ],
   "source": [
    "cmatrix = metrics.confusion_matrix(predictions, y_test)\n",
    "print(cmatrix)"
   ]
  },
  {
   "cell_type": "code",
   "execution_count": 251,
   "metadata": {},
   "outputs": [
    {
     "data": {
      "image/png": "[encoded data removed]",
      "text/plain": [
       "<Figure size 648x648 with 2 Axes>"
      ]
     },
     "metadata": {
      "needs_background": "light"
     },
     "output_type": "display_data"
    }
   ],
   "source": [
    "plt.figure(figsize = (9,9))\n",
    "sns.heatmap(cmatrix, annot = True, fmt = '.3f', linewidths = 1, square = True, cmap = 'Blues_r');\n",
    "plt.ylabel('predicted label');\n",
    "plt.xlabel('Actual label');\n",
    "all_sample_title = 'Accuracy Score RAIN : {0}'.format(score*100)\n",
    "plt.title(all_sample_title, size = 15);"
   ]
  },
  {
   "cell_type": "code",
   "execution_count": 252,
   "metadata": {},
   "outputs": [
    {
     "data": {
      "text/plain": [
       "{'C': 1.0,\n",
       " 'class_weight': None,\n",
       " 'dual': False,\n",
       " 'fit_intercept': True,\n",
       " 'intercept_scaling': 1,\n",
       " 'l1_ratio': None,\n",
       " 'max_iter': 100,\n",
       " 'multi_class': 'warn',\n",
       " 'n_jobs': None,\n",
       " 'penalty': 'l2',\n",
       " 'random_state': None,\n",
       " 'solver': 'warn',\n",
       " 'tol': 0.0001,\n",
       " 'verbose': 0,\n",
       " 'warm_start': False}"
      ]
     },
     "execution_count": 252,
     "metadata": {},
     "output_type": "execute_result"
    }
   ],
   "source": [
    "logic.get_params()"
   ]
  },
  {
   "cell_type": "code",
   "execution_count": 253,
   "metadata": {},
   "outputs": [
    {
     "name": "stdout",
     "output_type": "stream",
     "text": [
      "[[-0.00634555]]\n",
      "[-3.45032996]\n"
     ]
    }
   ],
   "source": [
    "print(logic.coef_)\n",
    "print(logic.intercept_)\n",
    "weights = []\n",
    "bias = []\n",
    "scores = []\n",
    "weights.append(logic.coef_.tolist())\n",
    "bias.append(logic.intercept_.tolist())\n",
    "scores.append(score)\n",
    "while(len(scores) > 1):\n",
    "    bias.append(len(scores) - 1)\n",
    "while(len(weights) > 1):\n",
    "    weights.pop(len(weights) - 1)\n",
    "while(len(bias) > 1):\n",
    "    bias.append(len(bias) - 1)\n"
   ]
  },
  {
   "cell_type": "code",
   "execution_count": 254,
   "metadata": {},
   "outputs": [
    {
     "name": "stderr",
     "output_type": "stream",
     "text": [
      "c:\\users\\arvin\\appdata\\local\\programs\\python\\python37\\lib\\site-packages\\sklearn\\linear_model\\logistic.py:432: FutureWarning: Default solver will be changed to 'lbfgs' in 0.22. Specify a solver to silence this warning.\n",
      "  FutureWarning)\n"
     ]
    },
    {
     "name": "stdout",
     "output_type": "stream",
     "text": [
      "1.0\n"
     ]
    },
    {
     "data": {
      "text/plain": [
       "Text(0.5, 1, 'accuracy SNOW100.0')"
      ]
     },
     "execution_count": 254,
     "metadata": {},
     "output_type": "execute_result"
    },
    {
     "data": {
      "image/png": "[encoded data removed]",
      "text/plain": [
       "<Figure size 432x288 with 2 Axes>"
      ]
     },
     "metadata": {
      "needs_background": "light"
     },
     "output_type": "display_data"
    }
   ],
   "source": [
    "output_data = np.array(data[' _snow'].tolist())\n",
    "x_train, x_test, y_train, y_test = train_test_split(input_data, output_data, test_size = 1/10.0, random_state = 0)\n",
    "logic.fit(x_train, y_train)\n",
    "predictions = logic.predict(x_test)\n",
    "score = logic.score(x_test, y_test)\n",
    "print(score)\n",
    "\n",
    "cmatrix = metrics.confusion_matrix(predictions, y_test)\n",
    "\n",
    "plt.figure()\n",
    "sns.heatmap(cmatrix, annot = True, fmt = '.3f', linewidths = 2, square = True, cmap = 'Accent');\n",
    "plt.ylabel('predictions')\n",
    "plt.xlabel('Actual data')\n",
    "plt.title(\"accuracy SNOW{}\".format(score*100))\n",
    "\n"
   ]
  },
  {
   "cell_type": "code",
   "execution_count": 255,
   "metadata": {},
   "outputs": [],
   "source": [
    "weights.append(logic.coef_.tolist())\n",
    "bias.append(logic.intercept_.tolist())\n",
    "scores.append(scores)\n",
    "while(len(scores) > 2):\n",
    "    bias.append(len(score) - 1)\n",
    "while(len(weights) > 2):\n",
    "    weights.pop(len(weights) - 1)\n",
    "while(len(bias) > 2):\n",
    "    bias.append(len(bias) - 1)"
   ]
  },
  {
   "cell_type": "code",
   "execution_count": 256,
   "metadata": {},
   "outputs": [
    {
     "name": "stderr",
     "output_type": "stream",
     "text": [
      "c:\\users\\arvin\\appdata\\local\\programs\\python\\python37\\lib\\site-packages\\sklearn\\linear_model\\logistic.py:432: FutureWarning: Default solver will be changed to 'lbfgs' in 0.22. Specify a solver to silence this warning.\n",
      "  FutureWarning)\n"
     ]
    },
    {
     "data": {
      "text/plain": [
       "Text(0.5, 1, 'accuracy FOG: 93.87068026537281')"
      ]
     },
     "execution_count": 256,
     "metadata": {},
     "output_type": "execute_result"
    },
    {
     "data": {
      "image/png": "[encoded data removed]",
      "text/plain": [
       "<Figure size 432x288 with 2 Axes>"
      ]
     },
     "metadata": {
      "needs_background": "light"
     },
     "output_type": "display_data"
    }
   ],
   "source": [
    "output_data = np.array(data[' _fog'])\n",
    "x_train, x_test, y_train,  y_test = train_test_split(input_data, output_data, test_size = 1/10.0, random_state = None)\n",
    "\n",
    "logic.fit(x_train, y_train)\n",
    "score = logic.score(x_test, y_test)\n",
    "predictions = logic.predict(x_test)\n",
    "\n",
    "cmatrix = metrics.confusion_matrix(predictions, y_test)\n",
    "\n",
    "plt.figure()\n",
    "sns.heatmap(cmatrix, annot = True, cmap = 'hot', linewidths = 1, square = True)\n",
    "plt.ylabel('predicted')\n",
    "plt.xlabel('Actual data')\n",
    "plt.title('accuracy FOG: {}'.format(score*100))"
   ]
  },
  {
   "cell_type": "code",
   "execution_count": 257,
   "metadata": {},
   "outputs": [],
   "source": [
    "weights.append(logic.coef_.tolist())\n",
    "bias.append(logic.intercept_.tolist())\n",
    "scores.append(score)\n",
    "while(len(scores) > 3):\n",
    "    bias.append(len(scores) - 1)"
   ]
  },
  {
   "cell_type": "code",
   "execution_count": 258,
   "metadata": {},
   "outputs": [
    {
     "name": "stdout",
     "output_type": "stream",
     "text": [
      "3 3\n"
     ]
    }
   ],
   "source": [
    "print(len(weights), len(bias))\n",
    "while(len(weights) > 3):\n",
    "    weights.pop(len(weights) -1)\n",
    "while(len(bias) > 3):\n",
    "    bias.pop(len(bias) -1)"
   ]
  },
  {
   "cell_type": "code",
   "execution_count": 259,
   "metadata": {},
   "outputs": [
    {
     "name": "stderr",
     "output_type": "stream",
     "text": [
      "c:\\users\\arvin\\appdata\\local\\programs\\python\\python37\\lib\\site-packages\\sklearn\\linear_model\\logistic.py:432: FutureWarning: Default solver will be changed to 'lbfgs' in 0.22. Specify a solver to silence this warning.\n",
      "  FutureWarning)\n"
     ]
    },
    {
     "data": {
      "text/plain": [
       "Text(0.5, 1, 'accuracy HAIL = 99.98019605901575')"
      ]
     },
     "execution_count": 259,
     "metadata": {},
     "output_type": "execute_result"
    },
    {
     "data": {
      "image/png": "[encoded data removed]",
      "text/plain": [
       "<Figure size 432x288 with 2 Axes>"
      ]
     },
     "metadata": {
      "needs_background": "light"
     },
     "output_type": "display_data"
    }
   ],
   "source": [
    "output_data = np.array(data[' _hail'])\n",
    "x_train, x_test, y_train, y_test = train_test_split(input_data, output_data, test_size = 1/10.0)\n",
    "\n",
    "logic.fit(x_train, y_train)\n",
    "\n",
    "score = logic.score(x_test, y_test)\n",
    "predictions = logic.predict(x_test)\n",
    "\n",
    "cmatrix = metrics.confusion_matrix(predictions, y_test)\n",
    "\n",
    "plt.figure()\n",
    "sns.heatmap(cmatrix, square = False, linewidths = 2, cmap = 'nipy_spectral', annot = True, fmt = '.3f')\n",
    "plt.xlabel('Actual answer')\n",
    "plt.ylabel('predicted answer')\n",
    "plt.title('accuracy HAIL = {}'.format(score*100))"
   ]
  },
  {
   "cell_type": "code",
   "execution_count": 260,
   "metadata": {},
   "outputs": [],
   "source": [
    "weights.append(logic.coef_.tolist())\n",
    "bias.append(logic.intercept_.tolist())\n",
    "scores.append(score)\n",
    "while(len(scores) > 4):\n",
    "    bias.append(len(scores) - 1)\n",
    "while(len(weights) > 4):\n",
    "    weights.pop(len(weights) - 1)\n",
    "while(len(bias) > 4):\n",
    "    bias.pop(len(bias) - 1)"
   ]
  },
  {
   "cell_type": "code",
   "execution_count": 261,
   "metadata": {},
   "outputs": [
    {
     "name": "stderr",
     "output_type": "stream",
     "text": [
      "c:\\users\\arvin\\appdata\\local\\programs\\python\\python37\\lib\\site-packages\\sklearn\\linear_model\\logistic.py:432: FutureWarning: Default solver will be changed to 'lbfgs' in 0.22. Specify a solver to silence this warning.\n",
      "  FutureWarning)\n"
     ]
    },
    {
     "data": {
      "text/plain": [
       "Text(0.5, 1, 'accuracy THUNDER= 98.9701950688187')"
      ]
     },
     "execution_count": 261,
     "metadata": {},
     "output_type": "execute_result"
    },
    {
     "data": {
      "image/png": "[encoded data removed]",
      "text/plain": [
       "<Figure size 432x288 with 2 Axes>"
      ]
     },
     "metadata": {
      "needs_background": "light"
     },
     "output_type": "display_data"
    }
   ],
   "source": [
    "output_data = np.array(data[' _thunder'])\n",
    "x_train, x_test, y_train, y_test = train_test_split(input_data, output_data, test_size = 1/10.0)\n",
    "\n",
    "logic.fit(x_train, y_train)\n",
    "\n",
    "score = logic.score(x_test, y_test)\n",
    "predictions = logic.predict(x_test)\n",
    "\n",
    "cmatrix = metrics.confusion_matrix(predictions, y_test)\n",
    "\n",
    "plt.figure()\n",
    "sns.heatmap(cmatrix, square = False, linewidths = 2, cmap = 'nipy_spectral', annot = True, fmt = '.3f')\n",
    "plt.xlabel('Actual answer')\n",
    "plt.ylabel('predicted answer')\n",
    "plt.title('accuracy THUNDER= {}'.format(score*100))"
   ]
  },
  {
   "cell_type": "code",
   "execution_count": 262,
   "metadata": {},
   "outputs": [],
   "source": [
    "weights.append(logic.coef_.tolist())\n",
    "bias.append(logic.intercept_.tolist())\n",
    "scores.append(score)\n",
    "while(len(scores) > 5):\n",
    "    bias.append(len(scores) - 1)\n",
    "while(len(weights) > 5):\n",
    "    weights.pop(len(weights) - 1)\n",
    "while(len(bias) > 5):\n",
    "    bias.pop(len(bias) - 1)"
   ]
  },
  {
   "cell_type": "code",
   "execution_count": 263,
   "metadata": {},
   "outputs": [
    {
     "name": "stdout",
     "output_type": "stream",
     "text": [
      "[[[-0.006345545339051696]], [[-0.6011366362961678]], [[-0.3378294578589713]], [[-0.13989263087242257]], [[-0.0019416654646894004]]]\n"
     ]
    }
   ],
   "source": [
    "print(weights)"
   ]
  },
  {
   "cell_type": "code",
   "execution_count": 264,
   "metadata": {},
   "outputs": [],
   "source": [
    "#with_temp_hum = {'rain_accuracy':97.61, 'rain_weights':(weights[0], bias[0]), 'snow_accuracy':100, 'snow_weights':(weights[1], bias[1]), 'fog_accuracy':95.28, 'fog_weights':(weights[2], bias[2]), 'hail_accuracy':100, 'hail_weights':(weights[3], bias[3]), 'thunder_accuracy':98.9999, 'thunder_weights':(weights[4], bias[4])} "
   ]
  },
  {
   "cell_type": "code",
   "execution_count": 265,
   "metadata": {},
   "outputs": [],
   "source": [
    "#with_temp_hum_dew = {'rain_accuracy':97.4, 'rain_weights':(weights[0], bias[0]), 'snow_accuracy':100, 'snow_weights':(weights[1], bias[1]), 'fog_accuracy':95.35, 'fog_weights':(weights[2], bias[2]), 'hail_accuracy':99.97, 'hail_weights':(weights[3], bias[3]), 'thunder_accuracy':99.108, 'thunder_weights':(weights[4], bias[4])} "
   ]
  },
  {
   "cell_type": "code",
   "execution_count": 266,
   "metadata": {},
   "outputs": [],
   "source": [
    "#with_temperature = {'rain_accuracy':scores[0], 'rain_weights':(weights[0], bias[0]), 'snow_accuracy':scores[1], 'snow_weights':(weights[1], bias[1]), 'fog_accuracy':scores[2], 'fog_weights':(weights[2], bias[2]), 'hail_accuracy':scores[3], 'hail_weights':(weights[3], bias[3]), 'thunder_accuracy':scores[4], 'thunder_weights':(weights[4], bias[4])}"
   ]
  },
  {
   "cell_type": "code",
   "execution_count": null,
   "metadata": {},
   "outputs": [],
   "source": [
    "#THE PROGRAM HAS BEEN RUN AND THE VALUES ARE STORED IN THE RESPECTIVE DICTIONARY"
   ]
  },
  {
   "cell_type": "code",
   "execution_count": 267,
   "metadata": {},
   "outputs": [
    {
     "data": {
      "text/plain": [
       "0.9740568373106249"
      ]
     },
     "execution_count": 267,
     "metadata": {},
     "output_type": "execute_result"
    }
   ],
   "source": [
    "with_temperature.get('rain_accuracy')#temperature is the key feature"
   ]
  }
 ],
 "metadata": {
  "kernelspec": {
   "display_name": "Python 3",
   "language": "python",
   "name": "python3"
  },
  "language_info": {
   "codemirror_mode": {
    "name": "ipython",
    "version": 3
   },
   "file_extension": ".py",
   "mimetype": "text/x-python",
   "name": "python",
   "nbconvert_exporter": "python",
   "pygments_lexer": "ipython3",
   "version": "3.7.3"
  }
 },
 "nbformat": 4,
 "nbformat_minor": 2
}
